{
  "cells": [
    {
      "cell_type": "markdown",
      "metadata": {
        "id": "view-in-github",
        "colab_type": "text"
      },
      "source": [
        "<a href=\"https://colab.research.google.com/github/melanie197/01_hello-world.py/blob/main/3_1_4_6_Lab_Descriptive_Statistics_in_Python.ipynb\" target=\"_parent\"><img src=\"https://colab.research.google.com/assets/colab-badge.svg\" alt=\"Open In Colab\"/></a>"
      ]
    },
    {
      "cell_type": "markdown",
      "metadata": {
        "id": "iSYM9utgHKPv"
      },
      "source": [
        "![Título](Images/cisco.png)"
      ]
    },
    {
      "cell_type": "markdown",
      "metadata": {
        "id": "o9X3pGkSHKP3"
      },
      "source": [
        "# Práctica de laboratorio: estadísticas descriptivas en Python \n"
      ]
    },
    {
      "cell_type": "markdown",
      "metadata": {
        "id": "TgwV3IfEHKP5"
      },
      "source": [
        "### Objetivos\n",
        "<p>\n",
        "<li>**Parte 1: Analizar los datos**</li>\n",
        "<li>**Parte 2: Visualizar los datos**</li>\n",
        "</p>\n",
        "### Aspectos básicos/situación\n",
        "\n",
        "En esta práctica de laboratorio, importará un conjunto de datos en un marco de pandas y generará estadísticas descriptivas de los datos. Formateará cadenas de texto, informará las estadísticas descriptivas y generará un diagrama de los datos. Por último, experimentará con los parámetros del gráfico para familiarizarse con la diagramación de datos mediante la biblioteca 'matplotlib.pyplot'.\n",
        "\n",
        "### Recursos necesarios\n",
        "\n",
        "* Raspberry Pi versión 2 o superior\n",
        "* 1 computadora con acceso a Internet para la conexión con Raspberry Pi\n",
        "* Bibliotecas de Python: pandas y matplotlib.pyplot\n",
        "* Archivos de datos: rpi_describe.csv"
      ]
    },
    {
      "cell_type": "markdown",
      "metadata": {
        "id": "peT-oRkhHKP6"
      },
      "source": [
        "## Parte 1: Analizar los datos\n",
        "\n",
        "El objetivo de la primera parte de esta práctica de laboratorio es utilizar métodos de pandas para importar un conjunto de datos y generar las estadísticas descriptivas siguientes:\n",
        "\n",
        "1. tamaño de la muestra\n",
        "2. media\n",
        "3. mediana\n",
        "4. desviación estándar\n",
        "5. mínimo, máximo y rango de valores"
      ]
    },
    {
      "cell_type": "markdown",
      "metadata": {
        "id": "2T9TuHj5HKP8"
      },
      "source": [
        "#### Paso 1: Configurar el entorno e importar los datos.\n",
        "\n",
        "Primero, importará los módulos y configurará el entorno para mostrar la salida de 'matplotlib' en la página de la computadora portátil. Usará 'pandas' para importar los datos de un archivo csv a un marco de datos. Trabajará con un archivo que contiene ejemplos de control de calidad para cajas de 20 oz de un producto alimenticio. Los datos se utilizan para verificar la precisión de las máquinas que cargan las cajas."
      ]
    },
    {
      "cell_type": "markdown",
      "metadata": {
        "id": "a86RLJS3HKP9"
      },
      "source": [
        "a) Importe los módulos y configure el entorno."
      ]
    },
    {
      "cell_type": "code",
      "execution_count": null,
      "metadata": {
        "id": "iJz5aR0OHKP-"
      },
      "outputs": [],
      "source": [
        "# Code cell 1\n",
        "import pandas as pd\n",
        "import matplotlib.pyplot as plt\n",
        "\n",
        "\n",
        "# matplotlib.use('qt5agg')\n",
        "\n",
        "# given\n",
        "%matplotlib inline\n",
        "# import matplotlib\n",
        " # required on some Jupyter Notebook installations"
      ]
    },
    {
      "cell_type": "markdown",
      "metadata": {
        "id": "ijR9xzMqHKQC"
      },
      "source": [
        "b) Importe los datos del archivo 'rpi_describe.csv' mediante el método de pandas read_csv. Utilice \"data\" como nombre del marco de datos."
      ]
    },
    {
      "cell_type": "code",
      "execution_count": null,
      "metadata": {
        "id": "63g7z4CBHKQD"
      },
      "outputs": [],
      "source": [
        "# Code cell 2\n",
        "# import the csv into the dataframe\n",
        "data = pd.read_csv(\"./Data/rpi_describe.csv\")\n"
      ]
    },
    {
      "cell_type": "markdown",
      "metadata": {
        "id": "yrDPTSs0HKQD"
      },
      "source": [
        "c) Verifique que el archivo se haya importado correctamente mediante el uso de los métodos de pandas 'head' y 'tail' para el marco de datos."
      ]
    },
    {
      "cell_type": "code",
      "execution_count": null,
      "metadata": {
        "id": "9Boh835iHKQE",
        "outputId": "bd668c81-0c3c-4d9e-8bc9-76c207035931"
      },
      "outputs": [
        {
          "data": {
            "text/html": [
              "<div>\n",
              "<style scoped>\n",
              "    .dataframe tbody tr th:only-of-type {\n",
              "        vertical-align: middle;\n",
              "    }\n",
              "\n",
              "    .dataframe tbody tr th {\n",
              "        vertical-align: top;\n",
              "    }\n",
              "\n",
              "    .dataframe thead th {\n",
              "        text-align: right;\n",
              "    }\n",
              "</style>\n",
              "<table border=\"1\" class=\"dataframe\">\n",
              "  <thead>\n",
              "    <tr style=\"text-align: right;\">\n",
              "      <th></th>\n",
              "      <th>weight</th>\n",
              "    </tr>\n",
              "  </thead>\n",
              "  <tbody>\n",
              "    <tr>\n",
              "      <th>0</th>\n",
              "      <td>20.440</td>\n",
              "    </tr>\n",
              "    <tr>\n",
              "      <th>1</th>\n",
              "      <td>20.244</td>\n",
              "    </tr>\n",
              "    <tr>\n",
              "      <th>2</th>\n",
              "      <td>20.549</td>\n",
              "    </tr>\n",
              "    <tr>\n",
              "      <th>3</th>\n",
              "      <td>20.755</td>\n",
              "    </tr>\n",
              "    <tr>\n",
              "      <th>4</th>\n",
              "      <td>20.740</td>\n",
              "    </tr>\n",
              "  </tbody>\n",
              "</table>\n",
              "</div>"
            ],
            "text/plain": [
              "   weight\n",
              "0  20.440\n",
              "1  20.244\n",
              "2  20.549\n",
              "3  20.755\n",
              "4  20.740"
            ]
          },
          "execution_count": 3,
          "metadata": {},
          "output_type": "execute_result"
        }
      ],
      "source": [
        "# Code cell 3\n",
        "# view the contents of the first five rows in the dataframe\n",
        "data.head()\n"
      ]
    },
    {
      "cell_type": "code",
      "execution_count": null,
      "metadata": {
        "id": "v7ZO-C3NHKQG",
        "outputId": "5cf45470-2060-4ffb-bd9d-f89888e9dca9"
      },
      "outputs": [
        {
          "data": {
            "text/html": [
              "<div>\n",
              "<style scoped>\n",
              "    .dataframe tbody tr th:only-of-type {\n",
              "        vertical-align: middle;\n",
              "    }\n",
              "\n",
              "    .dataframe tbody tr th {\n",
              "        vertical-align: top;\n",
              "    }\n",
              "\n",
              "    .dataframe thead th {\n",
              "        text-align: right;\n",
              "    }\n",
              "</style>\n",
              "<table border=\"1\" class=\"dataframe\">\n",
              "  <thead>\n",
              "    <tr style=\"text-align: right;\">\n",
              "      <th></th>\n",
              "      <th>weight</th>\n",
              "    </tr>\n",
              "  </thead>\n",
              "  <tbody>\n",
              "    <tr>\n",
              "      <th>9995</th>\n",
              "      <td>20.419</td>\n",
              "    </tr>\n",
              "    <tr>\n",
              "      <th>9996</th>\n",
              "      <td>20.554</td>\n",
              "    </tr>\n",
              "    <tr>\n",
              "      <th>9997</th>\n",
              "      <td>20.768</td>\n",
              "    </tr>\n",
              "    <tr>\n",
              "      <th>9998</th>\n",
              "      <td>20.829</td>\n",
              "    </tr>\n",
              "    <tr>\n",
              "      <th>9999</th>\n",
              "      <td>20.667</td>\n",
              "    </tr>\n",
              "  </tbody>\n",
              "</table>\n",
              "</div>"
            ],
            "text/plain": [
              "      weight\n",
              "9995  20.419\n",
              "9996  20.554\n",
              "9997  20.768\n",
              "9998  20.829\n",
              "9999  20.667"
            ]
          },
          "execution_count": 4,
          "metadata": {},
          "output_type": "execute_result"
        }
      ],
      "source": [
        "# Code cell 4\n",
        "# view the contents of the last five rows in the dataframe\n",
        "data.tail()\n"
      ]
    },
    {
      "cell_type": "markdown",
      "metadata": {
        "id": "S60NCnlgHKQH"
      },
      "source": [
        "A partir de la salida del método de cola, observará que hay 10 000 filas de datos en el archivo. Si bien se trata sólo de una columna, los pandas administran este archivo de manera muy eficaz."
      ]
    },
    {
      "cell_type": "markdown",
      "metadata": {
        "id": "oYr9Th1xHKQR"
      },
      "source": [
        "#### Paso 2: Utilizar pandas para visualizar la tabla de estadísticas descriptivas para el archivo.\n",
        "\n",
        "Los pandas incluyen varios métodos eficaces para mostrar las estadísticas básicas en un conjunto de datos."
      ]
    },
    {
      "cell_type": "markdown",
      "metadata": {
        "id": "ygCN2v9HHKQT"
      },
      "source": [
        "a) El método 'dataframe.describe()' muestra estadísticas del marco de datos."
      ]
    },
    {
      "cell_type": "code",
      "execution_count": null,
      "metadata": {
        "id": "g_p2WbbvHKQT",
        "outputId": "541426b4-98c9-468e-d1ec-fd4ba7f2e51d"
      },
      "outputs": [
        {
          "data": {
            "text/html": [
              "<div>\n",
              "<style scoped>\n",
              "    .dataframe tbody tr th:only-of-type {\n",
              "        vertical-align: middle;\n",
              "    }\n",
              "\n",
              "    .dataframe tbody tr th {\n",
              "        vertical-align: top;\n",
              "    }\n",
              "\n",
              "    .dataframe thead th {\n",
              "        text-align: right;\n",
              "    }\n",
              "</style>\n",
              "<table border=\"1\" class=\"dataframe\">\n",
              "  <thead>\n",
              "    <tr style=\"text-align: right;\">\n",
              "      <th></th>\n",
              "      <th>weight</th>\n",
              "    </tr>\n",
              "  </thead>\n",
              "  <tbody>\n",
              "    <tr>\n",
              "      <th>count</th>\n",
              "      <td>10000.000000</td>\n",
              "    </tr>\n",
              "    <tr>\n",
              "      <th>mean</th>\n",
              "      <td>20.499212</td>\n",
              "    </tr>\n",
              "    <tr>\n",
              "      <th>std</th>\n",
              "      <td>0.199874</td>\n",
              "    </tr>\n",
              "    <tr>\n",
              "      <th>min</th>\n",
              "      <td>19.752000</td>\n",
              "    </tr>\n",
              "    <tr>\n",
              "      <th>25%</th>\n",
              "      <td>20.365000</td>\n",
              "    </tr>\n",
              "    <tr>\n",
              "      <th>50%</th>\n",
              "      <td>20.500000</td>\n",
              "    </tr>\n",
              "    <tr>\n",
              "      <th>75%</th>\n",
              "      <td>20.635000</td>\n",
              "    </tr>\n",
              "    <tr>\n",
              "      <th>max</th>\n",
              "      <td>21.171000</td>\n",
              "    </tr>\n",
              "  </tbody>\n",
              "</table>\n",
              "</div>"
            ],
            "text/plain": [
              "             weight\n",
              "count  10000.000000\n",
              "mean      20.499212\n",
              "std        0.199874\n",
              "min       19.752000\n",
              "25%       20.365000\n",
              "50%       20.500000\n",
              "75%       20.635000\n",
              "max       21.171000"
            ]
          },
          "execution_count": 6,
          "metadata": {},
          "output_type": "execute_result"
        }
      ],
      "source": [
        "# Code cell 5\n",
        "# use the describe method of the new dataframe to view the table of statistics\n",
        "data.describe()\n"
      ]
    },
    {
      "cell_type": "markdown",
      "metadata": {
        "id": "at2QllCfHKQV"
      },
      "source": [
        "b) Para trabajar con los valores redondeados de los pesos en el conjunto de datos, puede agregar una nueva columna a los valores redondeados. En los pandas, se accede a las columnas por sus encabezados. Para crear una nueva columna, se utiliza el nombre de la nueva columna, entre comillas, entre corchetes como índice para el marco de datos. El método 'round()' se utiliza para redondear los valores en la columna peso y completar una nueva columna con los valores redondeados."
      ]
    },
    {
      "cell_type": "code",
      "execution_count": null,
      "metadata": {
        "id": "BeLTF7jFHKQW",
        "outputId": "2c51e0d4-cb65-45ae-ecbf-64febf7d6ab2"
      },
      "outputs": [
        {
          "data": {
            "text/html": [
              "<div>\n",
              "<style scoped>\n",
              "    .dataframe tbody tr th:only-of-type {\n",
              "        vertical-align: middle;\n",
              "    }\n",
              "\n",
              "    .dataframe tbody tr th {\n",
              "        vertical-align: top;\n",
              "    }\n",
              "\n",
              "    .dataframe thead th {\n",
              "        text-align: right;\n",
              "    }\n",
              "</style>\n",
              "<table border=\"1\" class=\"dataframe\">\n",
              "  <thead>\n",
              "    <tr style=\"text-align: right;\">\n",
              "      <th></th>\n",
              "      <th>weight</th>\n",
              "      <th>rounded</th>\n",
              "      <th>diff</th>\n",
              "    </tr>\n",
              "  </thead>\n",
              "  <tbody>\n",
              "    <tr>\n",
              "      <th>0</th>\n",
              "      <td>20.440</td>\n",
              "      <td>20.44</td>\n",
              "      <td>0</td>\n",
              "    </tr>\n",
              "    <tr>\n",
              "      <th>1</th>\n",
              "      <td>20.244</td>\n",
              "      <td>20.24</td>\n",
              "      <td>0</td>\n",
              "    </tr>\n",
              "    <tr>\n",
              "      <th>2</th>\n",
              "      <td>20.549</td>\n",
              "      <td>20.55</td>\n",
              "      <td>0</td>\n",
              "    </tr>\n",
              "    <tr>\n",
              "      <th>3</th>\n",
              "      <td>20.755</td>\n",
              "      <td>20.76</td>\n",
              "      <td>0</td>\n",
              "    </tr>\n",
              "    <tr>\n",
              "      <th>4</th>\n",
              "      <td>20.740</td>\n",
              "      <td>20.74</td>\n",
              "      <td>0</td>\n",
              "    </tr>\n",
              "  </tbody>\n",
              "</table>\n",
              "</div>"
            ],
            "text/plain": [
              "   weight  rounded  diff\n",
              "0  20.440    20.44     0\n",
              "1  20.244    20.24     0\n",
              "2  20.549    20.55     0\n",
              "3  20.755    20.76     0\n",
              "4  20.740    20.74     0"
            ]
          },
          "execution_count": 31,
          "metadata": {},
          "output_type": "execute_result"
        }
      ],
      "source": [
        "# Code cell 6\n",
        "# Add a new column to the dataframe and populate it with rounded weights.\n",
        "# data['rounded] = data['?'].?(?)\n",
        "data['rounded'] = data.weight.round(2)\n",
        "# Verify that values were added.\n",
        "# ...\n",
        "data.head()"
      ]
    },
    {
      "cell_type": "markdown",
      "metadata": {
        "id": "gsSVEgwOHKQX"
      },
      "source": [
        "c) También es posible completar una columna con valores calculados. Por ejemplo, \n",
        "\n",
        "<pre><code>dataframe['c'] = dataframe['a'] - dataframe['b']</code></pre>\n",
        "\n",
        "creará la columna c en el marco de datos y la completará con la diferencia entre los valores numéricos en la columna a y b.\n",
        "\n",
        "Cree una nueva columna en el marco de datos llamada \"diff\" y complete esa columna con la cantidad de peso sobre o debajo del valor objetivo de 20 onzas. Utilice el valor redondeado para el cálculo."
      ]
    },
    {
      "cell_type": "code",
      "execution_count": null,
      "metadata": {
        "id": "Q-ReyWK5HKQY",
        "outputId": "8ae97419-edab-416e-9d35-d29a7f439a8e"
      },
      "outputs": [
        {
          "data": {
            "text/html": [
              "<div>\n",
              "<style scoped>\n",
              "    .dataframe tbody tr th:only-of-type {\n",
              "        vertical-align: middle;\n",
              "    }\n",
              "\n",
              "    .dataframe tbody tr th {\n",
              "        vertical-align: top;\n",
              "    }\n",
              "\n",
              "    .dataframe thead th {\n",
              "        text-align: right;\n",
              "    }\n",
              "</style>\n",
              "<table border=\"1\" class=\"dataframe\">\n",
              "  <thead>\n",
              "    <tr style=\"text-align: right;\">\n",
              "      <th></th>\n",
              "      <th>weight</th>\n",
              "      <th>rounded</th>\n",
              "      <th>diff</th>\n",
              "    </tr>\n",
              "  </thead>\n",
              "  <tbody>\n",
              "    <tr>\n",
              "      <th>0</th>\n",
              "      <td>20.440</td>\n",
              "      <td>20.44</td>\n",
              "      <td>0.44</td>\n",
              "    </tr>\n",
              "    <tr>\n",
              "      <th>1</th>\n",
              "      <td>20.244</td>\n",
              "      <td>20.24</td>\n",
              "      <td>0.24</td>\n",
              "    </tr>\n",
              "    <tr>\n",
              "      <th>2</th>\n",
              "      <td>20.549</td>\n",
              "      <td>20.55</td>\n",
              "      <td>0.55</td>\n",
              "    </tr>\n",
              "    <tr>\n",
              "      <th>3</th>\n",
              "      <td>20.755</td>\n",
              "      <td>20.76</td>\n",
              "      <td>0.76</td>\n",
              "    </tr>\n",
              "    <tr>\n",
              "      <th>4</th>\n",
              "      <td>20.740</td>\n",
              "      <td>20.74</td>\n",
              "      <td>0.74</td>\n",
              "    </tr>\n",
              "  </tbody>\n",
              "</table>\n",
              "</div>"
            ],
            "text/plain": [
              "   weight  rounded  diff\n",
              "0  20.440    20.44  0.44\n",
              "1  20.244    20.24  0.24\n",
              "2  20.549    20.55  0.55\n",
              "3  20.755    20.76  0.76\n",
              "4  20.740    20.74  0.74"
            ]
          },
          "execution_count": 32,
          "metadata": {},
          "output_type": "execute_result"
        }
      ],
      "source": [
        "# Code cell 7\n",
        "# Create the new column named \"diff\" and fill it with values.\n",
        "#data['diff'] = ???\n",
        "data['diff'] = data['rounded'] - 20\n",
        "# Check the result.\n",
        "data.head()"
      ]
    },
    {
      "cell_type": "markdown",
      "metadata": {
        "id": "Br7qNOLrHKQe"
      },
      "source": [
        "#### Paso 3: Visualizar las estadísticas descriptivas en texto.\n",
        "\n",
        "En este paso, creará variables para alojar una serie de estadísticas descriptivas y luego desarrollará cadenas para mostrar los valores. Utilizará lo siguiente:\n",
        "\n",
        "* 'count()' \n",
        "* 'mean()'\n",
        "* 'median()'\n",
        "* 'std()'\n",
        "* 'min()'\n",
        "* 'max()'"
      ]
    },
    {
      "cell_type": "markdown",
      "metadata": {
        "id": "bBPOzxIXHKQf"
      },
      "source": [
        "a) Utilice los valores en la columna redondeada del marco de datos. Cree una variable para cada estadística y calcule el rango de valores mediante 'min()' y 'max()' para calcular el rango de valores."
      ]
    },
    {
      "cell_type": "code",
      "execution_count": null,
      "metadata": {
        "id": "hRxEH6TwHKQg"
      },
      "outputs": [],
      "source": [
        "# Code cell 8\n",
        "# Create a variables to hold values for the dataset rounded column \n",
        "count = data['rounded'].count()\n",
        "mean = data['rounded'].mean()\n",
        "median = data['rounded'].median()\n",
        "std = data['rounded'].std()\n",
        "# rango rng\n",
        "rng = data['rounded'].max() - data['rounded'].min()\n",
        "\n"
      ]
    },
    {
      "cell_type": "markdown",
      "metadata": {
        "id": "yWFYwHuaHKQh"
      },
      "source": [
        "b) Para desarrollar cadenas que utilicen texto y variables para informar sobre las estadísticas del conjunto de datos, utilice el método de cadena 'format()' para facilitar la inserción de los valores de las variables en las cadenas. El formateo utiliza marcadores '{}' para indicar dónde deben insertarse los valores de las variables.\n",
        "\n",
        "Desarrolle oraciones como “La media de la distribución es…” para cada variable creada. En la última oración, incluya 'min()', 'max()' y los valores de rango en las mismas oraciones para practicar el uso de varios marcadores. Puede combinar otras variables en la misma oración, asimismo."
      ]
    },
    {
      "cell_type": "code",
      "execution_count": null,
      "metadata": {
        "id": "UtwNPebrHKQi"
      },
      "outputs": [],
      "source": [
        "# Code cell 9\n",
        "# Create variables to hold your statements.\n",
        "countstring = \"Hay {} registros en el dataframe\".format(count)\n",
        "meanstring = \"La media es {}\".format(mean)\n",
        "stdstring = \"La desviación estándar es {}\".format(std)\n",
        "rangestring = \"El rango entre el máximo {} y el mínimo es {}\".format(data['rounded'].max(), data['rounded'].min(), rng)\n",
        "\n"
      ]
    },
    {
      "cell_type": "markdown",
      "metadata": {
        "id": "S8ltNWVnHKQj"
      },
      "source": [
        "c) Utilice la función 'print' para ver la salida de todas las oraciones."
      ]
    },
    {
      "cell_type": "code",
      "execution_count": null,
      "metadata": {
        "id": "JaPPPij2HKQl",
        "outputId": "9c24eead-ba9c-44ca-d043-a33b13d1727e"
      },
      "outputs": [
        {
          "name": "stdout",
          "output_type": "stream",
          "text": [
            "Hay 10000 registros en el dataframe\n",
            "La media es 20.49915999999995\n",
            "La desviación estándar es 0.19990740530822973\n",
            "El rango entre el máximo 21.17 y el mínimo es 19.75\n"
          ]
        }
      ],
      "source": [
        "# Code cell 10\n",
        "# Print all of your statements\n",
        "print (countstring)\n",
        "print(meanstring)\n",
        "print(stdstring)\n",
        "print(rangestring)"
      ]
    },
    {
      "cell_type": "markdown",
      "metadata": {
        "id": "JPnHDuhuHKQn"
      },
      "source": [
        "Observe la salida para la desviación estándar. Puede formatear el número, de modo que sea más fácil comprender los resultados. Por ejemplo, puede cambiar la salida de la desviación estándar para mostrar sólo los primeros 2 dígitos después del punto decimal.\n",
        "\n",
        "Documento de Python para formatear las cadenas:\n",
        "\n",
        "https://docs.python.org/2/library/string.html\n",
        "\n",
        "Este enlace proporciona algunos ejemplos de formateo:\n",
        "\n",
        "https://mkaz.tech/code/python-string-format.html"
      ]
    },
    {
      "cell_type": "code",
      "execution_count": null,
      "metadata": {
        "id": "dFaPAqpVHKQn",
        "outputId": "0279c96b-2f8a-4774-8d7b-b8755f8dee3c"
      },
      "outputs": [
        {
          "name": "stdout",
          "output_type": "stream",
          "text": [
            "The standard deviation of the distribution is 0.20.\n"
          ]
        }
      ],
      "source": [
        "# Code cell 11\n",
        "\n",
        "# Format the standard deviation result to 2 decimal points\n",
        "count = data.rounded.count()\n",
        "stdstring = 'The standard deviation of the distribution is {:.2f}.'.format(std)\n",
        "print(stdstring)"
      ]
    },
    {
      "cell_type": "markdown",
      "metadata": {
        "id": "ZmeaphneHKQp"
      },
      "source": [
        "## Parte 2: Visualizar los datos\n",
        "\n",
        "En esta parte de la práctica de laboratorio, creará una distribución de frecuencia por cada valor único en el conjunto de datos."
      ]
    },
    {
      "cell_type": "markdown",
      "metadata": {
        "id": "BDkxqCYOHKQq"
      },
      "source": [
        "#### Paso 1: Crear un marco de datos que contenga los conteos de frecuencia para el conjunto de datos.\n",
        "\n",
        "a) Cree un nuevo marco de datos que contenga los conteos de frecuencia mediante el método 'value_counts()'. Este método crea un objeto de serie, no un marco de datos. La columna de índice de esta serie está dada por los valores únicos de la serie, con el nombre de columna que se establece automáticamente en 0. Para convertir una serie en un DataFrame, puede utilizar la función 'to_frame()'. Llamar adicionalmente al método 'reset_index()' en el 'DataFrame' resultante transformará la columna de índice anterior en una nueva columna de datos, cuyo nombre se establece automáticamente en 'index'. Cambiaré el nombre de las columnas más adelante.\n",
        "\n",
        "\n",
        "\n",
        "</font>Utilizará 'to_frame()' con los métodos 'reset_index()' para crear un marco de datos de pandas a partir del objeto de serie. \n",
        "\n",
        "Utilizará la columna redondeada del marco de datos de los datos con el método 'value_counts()'. Por ejemplo:\n",
        "\n",
        "<pre><code>variable = dataframe['columnName'].value_counts()</code></pre>"
      ]
    },
    {
      "cell_type": "code",
      "execution_count": null,
      "metadata": {
        "id": "QCjWrmhOHKQq",
        "outputId": "250bb1a8-64ac-4140-e50e-39cedc532f51"
      },
      "outputs": [
        {
          "data": {
            "text/html": [
              "<div>\n",
              "<style scoped>\n",
              "    .dataframe tbody tr th:only-of-type {\n",
              "        vertical-align: middle;\n",
              "    }\n",
              "\n",
              "    .dataframe tbody tr th {\n",
              "        vertical-align: top;\n",
              "    }\n",
              "\n",
              "    .dataframe thead th {\n",
              "        text-align: right;\n",
              "    }\n",
              "</style>\n",
              "<table border=\"1\" class=\"dataframe\">\n",
              "  <thead>\n",
              "    <tr style=\"text-align: right;\">\n",
              "      <th></th>\n",
              "      <th>index</th>\n",
              "      <th>rounded</th>\n",
              "    </tr>\n",
              "  </thead>\n",
              "  <tbody>\n",
              "    <tr>\n",
              "      <th>0</th>\n",
              "      <td>20.48</td>\n",
              "      <td>228</td>\n",
              "    </tr>\n",
              "    <tr>\n",
              "      <th>1</th>\n",
              "      <td>20.50</td>\n",
              "      <td>226</td>\n",
              "    </tr>\n",
              "    <tr>\n",
              "      <th>2</th>\n",
              "      <td>20.43</td>\n",
              "      <td>218</td>\n",
              "    </tr>\n",
              "    <tr>\n",
              "      <th>3</th>\n",
              "      <td>20.46</td>\n",
              "      <td>213</td>\n",
              "    </tr>\n",
              "    <tr>\n",
              "      <th>4</th>\n",
              "      <td>20.45</td>\n",
              "      <td>210</td>\n",
              "    </tr>\n",
              "  </tbody>\n",
              "</table>\n",
              "</div>"
            ],
            "text/plain": [
              "   index  rounded\n",
              "0  20.48      228\n",
              "1  20.50      226\n",
              "2  20.43      218\n",
              "3  20.46      213\n",
              "4  20.45      210"
            ]
          },
          "execution_count": 37,
          "metadata": {},
          "output_type": "execute_result"
        }
      ],
      "source": [
        "# Code cell 12\n",
        "# Create a variable called 'freq' to hold the weight values and their frequencies\n",
        "freq = data['rounded'].value_counts()\n",
        "#freq\n",
        "# Convert the freq object to a data frame. Use to_frame().\n",
        "freq = freq.to_frame().reset_index()\n",
        "type(freq)\n",
        "freq.head()"
      ]
    },
    {
      "cell_type": "markdown",
      "metadata": {
        "id": "56vm28J8HKQs"
      },
      "source": [
        "b) Utilice la función 'type()' con el nombre de la variable como un argumento para verificar que 'freq' no sea un objeto del marco de datos."
      ]
    },
    {
      "cell_type": "code",
      "execution_count": null,
      "metadata": {
        "id": "E_WgkTy2HKQx",
        "outputId": "b54f3357-ef8b-4dab-bb62-6ecc8bb56ae0"
      },
      "outputs": [
        {
          "data": {
            "text/plain": [
              "pandas.core.frame.DataFrame"
            ]
          },
          "execution_count": 38,
          "metadata": {},
          "output_type": "execute_result"
        }
      ],
      "source": [
        "# Code cell 13\n",
        "# Verify the type of the freq object.\n",
        "type(freq)\n"
      ]
    },
    {
      "cell_type": "markdown",
      "metadata": {
        "id": "s_bB7cEFHKQy"
      },
      "source": [
        "c) Utilice 'head' para ver el nuevo marco de datos. Las columnas del marco de datos no tienen un nombre claro. Cámbieles el nombre a \"value\" y \"freq\"  mediante el atributo de las columnas del marco de datos. Por ejemplo:\n",
        "<pre><code>dataframe.columns = ['column1','column2']</code></pre>"
      ]
    },
    {
      "cell_type": "code",
      "execution_count": null,
      "metadata": {
        "id": "BN3oGjo_HKQ0",
        "outputId": "757c862b-1559-424c-b898-a712f537de97"
      },
      "outputs": [
        {
          "data": {
            "text/html": [
              "<div>\n",
              "<style scoped>\n",
              "    .dataframe tbody tr th:only-of-type {\n",
              "        vertical-align: middle;\n",
              "    }\n",
              "\n",
              "    .dataframe tbody tr th {\n",
              "        vertical-align: top;\n",
              "    }\n",
              "\n",
              "    .dataframe thead th {\n",
              "        text-align: right;\n",
              "    }\n",
              "</style>\n",
              "<table border=\"1\" class=\"dataframe\">\n",
              "  <thead>\n",
              "    <tr style=\"text-align: right;\">\n",
              "      <th></th>\n",
              "      <th>index</th>\n",
              "      <th>rounded</th>\n",
              "    </tr>\n",
              "  </thead>\n",
              "  <tbody>\n",
              "    <tr>\n",
              "      <th>0</th>\n",
              "      <td>20.48</td>\n",
              "      <td>228</td>\n",
              "    </tr>\n",
              "    <tr>\n",
              "      <th>1</th>\n",
              "      <td>20.50</td>\n",
              "      <td>226</td>\n",
              "    </tr>\n",
              "    <tr>\n",
              "      <th>2</th>\n",
              "      <td>20.43</td>\n",
              "      <td>218</td>\n",
              "    </tr>\n",
              "    <tr>\n",
              "      <th>3</th>\n",
              "      <td>20.46</td>\n",
              "      <td>213</td>\n",
              "    </tr>\n",
              "    <tr>\n",
              "      <th>4</th>\n",
              "      <td>20.45</td>\n",
              "      <td>210</td>\n",
              "    </tr>\n",
              "  </tbody>\n",
              "</table>\n",
              "</div>"
            ],
            "text/plain": [
              "   index  rounded\n",
              "0  20.48      228\n",
              "1  20.50      226\n",
              "2  20.43      218\n",
              "3  20.46      213\n",
              "4  20.45      210"
            ]
          },
          "execution_count": 39,
          "metadata": {},
          "output_type": "execute_result"
        }
      ],
      "source": [
        "# Code cell 14\n",
        "# Rename the columns in the dataframe. \n",
        "data_columns = ['value','freq']\n",
        "# Verify the result.\n",
        "\n",
        "freq.head()"
      ]
    },
    {
      "cell_type": "markdown",
      "metadata": {
        "id": "qBLNNqTIHKQ1"
      },
      "source": [
        "#### Paso 2: Trazar un gráfico de la distribución de frecuencia.\n",
        "\n",
        "a) El módulo 'matplotlib.pyplot' se importó como plt anteriormente en la práctica de laboratorio. Los métodos del módulo se utilizan para formatear y mostrar un diagrama de dispersión de los datos de frecuencia para un conjunto de datos."
      ]
    },
    {
      "cell_type": "code",
      "execution_count": null,
      "metadata": {
        "id": "SdmQcLJSHKQ1",
        "outputId": "5202adee-0bdb-493c-af30-ff73979ed073"
      },
      "outputs": [
        {
          "ename": "AttributeError",
          "evalue": "'DataFrame' object has no attribute 'value'",
          "output_type": "error",
          "traceback": [
            "\u001b[1;31m---------------------------------------------------------------------------\u001b[0m",
            "\u001b[1;31mAttributeError\u001b[0m                            Traceback (most recent call last)",
            "\u001b[1;32m~\\AppData\\Local\\Temp\\ipykernel_5408\\631660340.py\u001b[0m in \u001b[0;36m<module>\u001b[1;34m\u001b[0m\n\u001b[0;32m      9\u001b[0m \u001b[1;33m\u001b[0m\u001b[0m\n\u001b[0;32m     10\u001b[0m \u001b[1;31m# Plot the graph using a round symbol \"o\" of size 10\u001b[0m\u001b[1;33m\u001b[0m\u001b[1;33m\u001b[0m\u001b[0m\n\u001b[1;32m---> 11\u001b[1;33m \u001b[0mplt\u001b[0m\u001b[1;33m.\u001b[0m\u001b[0mplot\u001b[0m\u001b[1;33m(\u001b[0m\u001b[0mfreq\u001b[0m\u001b[1;33m.\u001b[0m\u001b[0mvalue\u001b[0m\u001b[1;33m,\u001b[0m\u001b[0mfreq\u001b[0m\u001b[1;33m.\u001b[0m\u001b[0mfreq\u001b[0m\u001b[1;33m,\u001b[0m \u001b[1;34m\"*\"\u001b[0m\u001b[1;33m,\u001b[0m \u001b[0mmarkersize\u001b[0m \u001b[1;33m=\u001b[0m \u001b[1;36m10\u001b[0m\u001b[1;33m,\u001b[0m \u001b[0mcolor\u001b[0m \u001b[1;33m=\u001b[0m \u001b[1;34m'g'\u001b[0m\u001b[1;33m)\u001b[0m\u001b[1;33m\u001b[0m\u001b[1;33m\u001b[0m\u001b[0m\n\u001b[0m",
            "\u001b[1;32m~\\anaconda3\\lib\\site-packages\\pandas\\core\\generic.py\u001b[0m in \u001b[0;36m__getattr__\u001b[1;34m(self, name)\u001b[0m\n\u001b[0;32m   5573\u001b[0m         ):\n\u001b[0;32m   5574\u001b[0m             \u001b[1;32mreturn\u001b[0m \u001b[0mself\u001b[0m\u001b[1;33m[\u001b[0m\u001b[0mname\u001b[0m\u001b[1;33m]\u001b[0m\u001b[1;33m\u001b[0m\u001b[1;33m\u001b[0m\u001b[0m\n\u001b[1;32m-> 5575\u001b[1;33m         \u001b[1;32mreturn\u001b[0m \u001b[0mobject\u001b[0m\u001b[1;33m.\u001b[0m\u001b[0m__getattribute__\u001b[0m\u001b[1;33m(\u001b[0m\u001b[0mself\u001b[0m\u001b[1;33m,\u001b[0m \u001b[0mname\u001b[0m\u001b[1;33m)\u001b[0m\u001b[1;33m\u001b[0m\u001b[1;33m\u001b[0m\u001b[0m\n\u001b[0m\u001b[0;32m   5576\u001b[0m \u001b[1;33m\u001b[0m\u001b[0m\n\u001b[0;32m   5577\u001b[0m     \u001b[1;32mdef\u001b[0m \u001b[0m__setattr__\u001b[0m\u001b[1;33m(\u001b[0m\u001b[0mself\u001b[0m\u001b[1;33m,\u001b[0m \u001b[0mname\u001b[0m\u001b[1;33m:\u001b[0m \u001b[0mstr\u001b[0m\u001b[1;33m,\u001b[0m \u001b[0mvalue\u001b[0m\u001b[1;33m)\u001b[0m \u001b[1;33m->\u001b[0m \u001b[1;32mNone\u001b[0m\u001b[1;33m:\u001b[0m\u001b[1;33m\u001b[0m\u001b[1;33m\u001b[0m\u001b[0m\n",
            "\u001b[1;31mAttributeError\u001b[0m: 'DataFrame' object has no attribute 'value'"
          ]
        },
        {
          "data": {
            "image/png": "[encoded data removed]",
            "text/plain": [
              "<Figure size 2000x1000 with 1 Axes>"
            ]
          },
          "metadata": {},
          "output_type": "display_data"
        }
      ],
      "source": [
        "# Code cell 15\n",
        "\n",
        "# Set a size for the graph\n",
        "plt.figure(figsize=(20,10))\n",
        "\n",
        "# Add axis labels\n",
        "plt.ylabel('Frequency')\n",
        "plt.xlabel('Weight')\n",
        "\n",
        "# Plot the graph using a round symbol \"o\" of size 10\n",
        "plt.plot(freq.value,freq.freq, \"o\", markersize = 10, color = 'g')"
      ]
    },
    {
      "cell_type": "markdown",
      "metadata": {
        "id": "Kb76BRJRHKQ3"
      },
      "source": [
        "El diagrama de la frecuencia de los valores se  asemeja al de una distribución gaussiana, centrada alrededor del valor de 20.5. En el capítulo 4, verá cómo esta forma se debe a un error sistemático y aleatorio en los sistemas de producción o medición."
      ]
    },
    {
      "cell_type": "markdown",
      "metadata": {
        "collapsed": true,
        "id": "myNmsFe1HKQ3"
      },
      "source": [
        "b) Experimente lo siguiente: diagrame los datos con dimensiones, marcadores, tamaños de marcadores y colores diferentes. Use los enlaces a continuación para los valores. También puede utilizar el ejemplo anterior para intentar diferentes dimensiones de figuras.\n",
        "\n",
        "marcadores http://matplotlib.org/api/markers_api.html\n",
        "\n",
        "colores http://matplotlib.org/api/colors_api.html"
      ]
    },
    {
      "cell_type": "markdown",
      "metadata": {
        "collapsed": true,
        "id": "QR_fO6F0HKQ5"
      },
      "source": [
        "<font size='0.5'>&copy; 2017 Cisco y/o sus filiales. Todos los derechos reservados. Este documento es información pública de Cisco.<font>"
      ]
    }
  ],
  "metadata": {
    "anaconda-cloud": {},
    "kernelspec": {
      "display_name": "Python 3 (ipykernel)",
      "language": "python",
      "name": "python3"
    },
    "language_info": {
      "codemirror_mode": {
        "name": "ipython",
        "version": 3
      },
      "file_extension": ".py",
      "mimetype": "text/x-python",
      "name": "python",
      "nbconvert_exporter": "python",
      "pygments_lexer": "ipython3",
      "version": "3.9.13"
    },
    "colab": {
      "provenance": [],
      "include_colab_link": true
    }
  },
  "nbformat": 4,
  "nbformat_minor": 0
}