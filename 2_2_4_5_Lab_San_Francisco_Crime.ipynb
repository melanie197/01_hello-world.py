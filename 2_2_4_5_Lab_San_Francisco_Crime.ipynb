{
  "cells": [
    {
      "cell_type": "markdown",
      "metadata": {
        "id": "view-in-github",
        "colab_type": "text"
      },
      "source": [
        "<a href=\"https://colab.research.google.com/github/melanie197/01_hello-world.py/blob/main/2_2_4_5_Lab_San_Francisco_Crime.ipynb\" target=\"_parent\"><img src=\"https://colab.research.google.com/assets/colab-badge.svg\" alt=\"Open In Colab\"/></a>"
      ]
    },
    {
      "cell_type": "markdown",
      "metadata": {
        "id": "x654j_OsZCyY"
      },
      "source": [
        "![Título](Images/cisco.png)"
      ]
    },
    {
      "cell_type": "markdown",
      "metadata": {
        "id": "L2NYF5oRZCyg"
      },
      "source": [
        "# Práctica de laboratorio: Delitos en San Francisco\n",
        "\n",
        "### Objetivos\n",
        "\n",
        "Demuestre sus conocimientos acerca del ciclo activo del análisis de datos mediante un conjunto de datos determinado, herramientas, Python y la libreta de anotaciones de Jupyter.\n",
        "\n",
        "#### Parte 1: Importar los paquetes de Python\n",
        "#### Parte 2: Cargar los datos\n",
        "#### Parte 3: Preparar los datos\n",
        "#### Parte 4: Analizar los datos\n",
        "#### Parte 5: Visualizar los datos\n",
        "\n",
        "### Segundo plano/situación\n",
        "\n",
        "En esta práctica de laboratorio, importará algunos paquetes de Python que nos necesarios para analizar un conjunto de datos que contiene información sobre delitos en San Francisco. Luego utilizará Python y Jupyter Notebook para preparar estos datos para su análisis, analizarlos, graficarlos y comunicar sus conclusiones.\n",
        "\n",
        "### Recursos necesarios\n",
        "\n",
        "* 1 computadora con acceso a Internet\n",
        "* Raspberry Pi versión 2 o superior\n",
        "* Bibliotecas de Python: pandas, numpy, matplotlib, folium, datetime y csv\n",
        "* Archivos de datos: Map-Crime_Incidents-Previous_Three_Months.csv"
      ]
    },
    {
      "cell_type": "markdown",
      "metadata": {
        "id": "Wt94cGD-ZCyi"
      },
      "source": [
        "## Parte 1: Importar los paquetes de Python\n",
        "\n",
        "En esta sección, importará los paquetes de Python que son necesarios para el resto de esta práctica de laboratorio.\n",
        "#### numpy \n",
        "NumPy es el paquete fundamental para computación científica con Python. Contiene entre otras cosas: un potente objeto de matriz N dimensional y funciones sofisticadas (difusión).\n",
        "#### pandas \n",
        "Pandas es un código abierto, una biblioteca con licencia BSD autorizada que proporciona un alto rendimiento, estructuras de datos fáciles de usar y herramientas de análisis de datos para el lenguaje de programación de Python.\n",
        "#### matplotlib\n",
        "Matplotlib es una biblioteca gráfica para el lenguaje de programación de Python y su extensión matemática numérica NumPy.\n",
        "#### folium \n",
        "Folium es una biblioteca para crear mapas interactivos."
      ]
    },
    {
      "cell_type": "code",
      "execution_count": null,
      "metadata": {
        "id": "QvXEVWnrZCyj"
      },
      "outputs": [],
      "source": [
        "# Code cell 1\n",
        "%matplotlib inline\n",
        "import numpy as np\n",
        "import pandas as pd\n",
        "import matplotlib.pyplot as plt\n",
        "import folium "
      ]
    },
    {
      "cell_type": "markdown",
      "metadata": {
        "id": "gJ7l7dfRZCyo"
      },
      "source": [
        "## Parte 2: Cargar los datos\n",
        "\n",
        "En esta sección, cargará el conjunto de datos de delitos en San Francisco y los paquetes de Python necesarios para analizarlo y visualizarlo."
      ]
    },
    {
      "cell_type": "markdown",
      "metadata": {
        "id": "I4J4rjj_ZCyp"
      },
      "source": [
        "#### Paso 1: Cargar los datos de delitos en San Francisco en un marco de datos.\n",
        "En este paso, se importarán los datos de delitos en San Francisco de un archivo de valores separado por comas (csv) en una trama de datos."
      ]
    },
    {
      "cell_type": "code",
      "execution_count": null,
      "metadata": {
        "id": "XcO39D4ZZCyq"
      },
      "outputs": [],
      "source": [
        "# code cell 2\n",
        "# This should be a local path\n",
        "dataset_path = './Data/Map-Crime_Incidents-Previous_Three_Months.csv'\n",
        "\n",
        "# read the original dataset (in comma separated values format) into a DataFrame\n",
        "SF = pd.read_csv(dataset_path)"
      ]
    },
    {
      "cell_type": "markdown",
      "metadata": {
        "id": "zSjH4yLiZCyr"
      },
      "source": [
        "Para ver las primeras cinco líneas del archivo csv, se utilizará el comando 'head' de Linux."
      ]
    },
    {
      "cell_type": "code",
      "execution_count": null,
      "metadata": {
        "id": "GKCvX-bWZCyt"
      },
      "outputs": [],
      "source": [
        "# code cell 3\n",
        "!head -n 5 ./Data/Map-Crime_Incidents-Previous_Three_Months.csv"
      ]
    },
    {
      "cell_type": "markdown",
      "metadata": {
        "id": "6rA58BHzZCyv"
      },
      "source": [
        "#### Paso 2: Ver los datos importados.\n",
        "\n",
        "A) Al ingresar el nombre del marco de datos en una celda, puede visualizar las filas superior e inferior de manera estructurada."
      ]
    },
    {
      "cell_type": "code",
      "execution_count": null,
      "metadata": {
        "id": "8JPysYSXZCyv"
      },
      "outputs": [],
      "source": [
        "# Code cell 4\n",
        "pd.set_option('display.max_rows', 10) #Visualize 10 rows \n",
        "SF"
      ]
    },
    {
      "cell_type": "markdown",
      "metadata": {
        "id": "JuAhP6LKZCyw"
      },
      "source": [
        "b) Utilice la función 'columns' para ver el nombre de las variables en el marco de datos."
      ]
    },
    {
      "cell_type": "code",
      "execution_count": null,
      "metadata": {
        "id": "_xCtjadpZCyx"
      },
      "outputs": [],
      "source": [
        "# Code cell 5\n",
        "SF.columns"
      ]
    },
    {
      "cell_type": "markdown",
      "metadata": {
        "id": "xRcBS3nWZCyx"
      },
      "source": [
        "¿Cuántas variables se incluyen en el marco de datos de SF (ignore el índice)?"
      ]
    },
    {
      "cell_type": "markdown",
      "metadata": {
        "id": "IdciUBkWZCyy"
      },
      "source": [
        "<font color= 'gray'>*Escriba su respuesta aquí*</font>"
      ]
    },
    {
      "cell_type": "markdown",
      "metadata": {
        "id": "0_5uq8GLZCyy"
      },
      "source": [
        "c) Utilice la función 'len' para determinar la cantidad de filas en el conjunto de datos."
      ]
    },
    {
      "cell_type": "code",
      "execution_count": null,
      "metadata": {
        "id": "pb7i9n7PZCyy"
      },
      "outputs": [],
      "source": [
        "# Code cell 6\n",
        "len(SF)"
      ]
    },
    {
      "cell_type": "markdown",
      "metadata": {
        "id": "QmLv2MwtZCyz"
      },
      "source": [
        "## Parte 3: Preparar los datos\n",
        "\n",
        "Ahora que cuenta con los datos cargados en el entorno de trabajo y determinó el análisis que desea realizar, es momento de preparar los datos para el análisis.\n"
      ]
    },
    {
      "cell_type": "markdown",
      "metadata": {
        "id": "5e1OET-zZCyz"
      },
      "source": [
        "#### Paso 1: Extraer el mes y el día del campo de Date (Fecha)."
      ]
    },
    {
      "cell_type": "markdown",
      "metadata": {
        "id": "4rg3aK3cZCy0"
      },
      "source": [
        "'lambda' es una palabra clave de Python que define las reconocidas *funciones anónimas*. 'lambda' le permite especificar una función en una línea de código sin utilizar 'def' y sin definir un nombre específico para ella. La sintaxis para una expresión 'lambda' es:\n",
        "\n",
        "'lambda' *parámetros*: *expresión*.\n",
        "\n",
        "En este caso, la función 'lambda' se utiliza para crear una función en línea que seleccione solo los dígitos del mes de la variable Date (Fecha) e 'int' para convertir una representación de secuencia en un valor entero. Luego, la función *pandas* 'apply' se utiliza para aplicar esta función a una columna entera (en la práctica, 'apply' define implícitamente un bucle 'for' y pasa una por una las filas a la función 'lambda').  El mismo procedimiento se puede hacer para el día. "
      ]
    },
    {
      "cell_type": "code",
      "execution_count": null,
      "metadata": {
        "id": "HYihYaHiZCy1"
      },
      "outputs": [],
      "source": [
        "# Code cell 7\n",
        "SF['Month'] = SF['Date'].apply(lambda row: int(row[0:2]))\n",
        "SF['Day'] = SF['Date'].apply(lambda row: int(row[3:5]))"
      ]
    },
    {
      "cell_type": "markdown",
      "metadata": {
        "id": "zW2nr1cEZCy1"
      },
      "source": [
        "Para verificar que estas dos variables se agreguen al marco de datos de SF, use la función 'print' para imprimir algunos de los valores de estas columnas y 'type' para verificar que estas columnas nuevas contengan, de hecho, valores numéricos."
      ]
    },
    {
      "cell_type": "code",
      "execution_count": null,
      "metadata": {
        "id": "_30OMc9gZCy2"
      },
      "outputs": [],
      "source": [
        "# Code cell 8\n",
        "print(SF['Month'][0:2])\n",
        "print(SF['Day'][0:2])"
      ]
    },
    {
      "cell_type": "code",
      "execution_count": null,
      "metadata": {
        "id": "7lBUttHTZCy2"
      },
      "outputs": [],
      "source": [
        "# Code cell 9\n",
        "print(type(SF['Month'][0]))"
      ]
    },
    {
      "cell_type": "markdown",
      "metadata": {
        "id": "K3xsJBCxZCy2"
      },
      "source": [
        "#### Paso 2: Eliminar las variables del marco de datos de SF."
      ]
    },
    {
      "cell_type": "markdown",
      "metadata": {
        "id": "6_nuYQnvZCy3"
      },
      "source": [
        "a) La columna 'IncidntNum' contiene varias celdas con NaN. En este caso, faltan los datos. Además, 'IncidntNum' no proporciona ningún valor al análisis. La columna se puede descartar del marco de datos. Una manera de eliminar variables que no desea en un marco de datos es mediante la función 'del'."
      ]
    },
    {
      "cell_type": "code",
      "execution_count": null,
      "metadata": {
        "id": "5h9iNo6SZCy3"
      },
      "outputs": [],
      "source": [
        "# Code cell 10\n",
        "del SF['IncidntNum']"
      ]
    },
    {
      "cell_type": "markdown",
      "metadata": {
        "id": "UrC01u4qZCy3"
      },
      "source": [
        "b) De manera similar, el atributo 'Location' no se incluirá en este análisis. Puede descartarse del marco de datos. \n",
        "<p>O bien, puede usar la función 'drop' en el marco de datos y especificar que el *eje* es el 1 (0 para las filas) y que el comando no requiere una asignación a otro valor para almacenar el resultado (*inplace = True*)."
      ]
    },
    {
      "cell_type": "code",
      "execution_count": null,
      "metadata": {
        "id": "u9TofSEcZCy8"
      },
      "outputs": [],
      "source": [
        "# Code cell 11\n",
        "SF.drop('Location', axis=1, inplace=True )"
      ]
    },
    {
      "cell_type": "markdown",
      "metadata": {
        "id": "Bo9lndvlZCy9"
      },
      "source": [
        "c) Verifique que se hayan eliminado las columnas."
      ]
    },
    {
      "cell_type": "code",
      "execution_count": null,
      "metadata": {
        "id": "48GD47eMZCy9"
      },
      "outputs": [],
      "source": [
        "# Code cell 12\n",
        "SF.columns"
      ]
    },
    {
      "cell_type": "markdown",
      "metadata": {
        "id": "6dyYUoGEZCy_"
      },
      "source": [
        "## Parte 4: Analizar los datos\n",
        "\n",
        "Ahora que el marco de datos se ha elaborado con datos, es momento de analizar los datos. "
      ]
    },
    {
      "cell_type": "markdown",
      "metadata": {
        "id": "4Bmdkg_PZCy_"
      },
      "source": [
        "#### Paso 1: Resumir las variables para obtener información estadística.\n",
        "\n",
        "a) Utilice la función 'value_counts' para resumir la cantidad de delitos cometidos por tipo; luego seleccione 'print' para visualizar los contenidos de la variable *CountCategory*."
      ]
    },
    {
      "cell_type": "code",
      "execution_count": null,
      "metadata": {
        "id": "v7HqwDs7ZCzA"
      },
      "outputs": [],
      "source": [
        "# Code cell 13\n",
        "CountCategory = SF['Category'].value_counts()\n",
        "print(CountCategory)"
      ]
    },
    {
      "cell_type": "markdown",
      "metadata": {
        "id": "k6e6bZnzZCzA"
      },
      "source": [
        "b) De manera predeterminada, los conteos se ordenan de forma descendente. El valor del parámetro opcional *ascendente* se puede configurar en *True* para invertir este comportamiento."
      ]
    },
    {
      "cell_type": "code",
      "execution_count": null,
      "metadata": {
        "scrolled": true,
        "id": "-24T3BiiZCzC"
      },
      "outputs": [],
      "source": [
        "# Code cell 14\n",
        "SF['Category'].value_counts(ascending=True)"
      ]
    },
    {
      "cell_type": "markdown",
      "metadata": {
        "id": "1VqOr-tmZCzD"
      },
      "source": [
        "¿Qué tipo de delitos se cometió más?"
      ]
    },
    {
      "cell_type": "markdown",
      "metadata": {
        "id": "ZuyGbx9YZCzD"
      },
      "source": [
        "*Escriba su respuesta aquí*"
      ]
    },
    {
      "cell_type": "markdown",
      "metadata": {
        "id": "GFiFZm3wZCzG"
      },
      "source": [
        "c) Al jerarquizar las dos funciones en un comando, puede lograr el mismo resultado con una línea de\n",
        "código."
      ]
    },
    {
      "cell_type": "code",
      "execution_count": null,
      "metadata": {
        "id": "5WekMy2eZCzH"
      },
      "outputs": [],
      "source": [
        "# Code cell 15\n",
        "print(SF['Category'].value_counts(ascending=True))"
      ]
    },
    {
      "cell_type": "markdown",
      "metadata": {
        "id": "jZK7Ek9vZCzI"
      },
      "source": [
        "**Pregunta de desafío**: ¿Qué PdDistrict presentaba la mayoría de los incidentes de delitos informados? Proporcione los comandos de Python\n",
        "utilizados para apoyar su respuesta."
      ]
    },
    {
      "cell_type": "markdown",
      "metadata": {
        "collapsed": true,
        "id": "wtjSbQoAZCzI"
      },
      "source": [
        "<font color ='gray'>*Escriba su respuesta aquí*</font>"
      ]
    },
    {
      "cell_type": "markdown",
      "metadata": {
        "id": "yYE64bABZCzJ"
      },
      "source": [
        "#### Paso 2: Crear subconjuntos de datos y organizarlos en marcos de datos más pequeños."
      ]
    },
    {
      "cell_type": "markdown",
      "metadata": {
        "id": "EGo7weeXZCzK"
      },
      "source": [
        "a) La indexación lógica se puede utilizar para seleccionar únicamente las filas en las cuales se cumple una condición específica. Por ejemplo, el código siguiente recupera sólo los delitos cometidos en agosto y guarda el resultado en un nuevo marco de datos."
      ]
    },
    {
      "cell_type": "code",
      "execution_count": null,
      "metadata": {
        "id": "2xKvXCUaZCzL"
      },
      "outputs": [],
      "source": [
        "# Code cell 16\n",
        "AugustCrimes = SF[SF['Month'] == 8]\n",
        "AugustCrimes"
      ]
    },
    {
      "cell_type": "markdown",
      "metadata": {
        "id": "mR27nbEsZCzL"
      },
      "source": [
        "¿Cuántos incidentes de delitos hubo en agosto? "
      ]
    },
    {
      "cell_type": "markdown",
      "metadata": {
        "collapsed": true,
        "id": "yactfIi7ZCzM"
      },
      "source": [
        "<font color ='gray'>*Escriba su respuesta aquí*</font>"
      ]
    },
    {
      "cell_type": "markdown",
      "metadata": {
        "id": "uVfKETFLZCzN"
      },
      "source": [
        "¿Cuántos robos se informaron en agosto?"
      ]
    },
    {
      "cell_type": "markdown",
      "metadata": {
        "id": "3Vsa6zC-ZCzO"
      },
      "source": [
        "<font color ='gray'>*Escriba su respuesta aquí*</font>"
      ]
    },
    {
      "cell_type": "code",
      "execution_count": null,
      "metadata": {
        "id": "xJ_c2fDpZCzO"
      },
      "outputs": [],
      "source": [
        "# code cell 17\n",
        "# Possible code for the question: How many burglaries were reported in the month of August?\n",
        "AugustCrimes = SF[SF['Month'] == 8]\n",
        "AugustCrimesB = SF[SF['Category'] == 'BURGLARY']\n",
        "len(AugustCrimesB)"
      ]
    },
    {
      "cell_type": "markdown",
      "metadata": {
        "id": "8Y14fgUIZCzP"
      },
      "source": [
        "b) Para crear un subconjunto del marco de datos de SF para un día específico, use la función 'query' para comparar el mes y el día al mismo tiempo."
      ]
    },
    {
      "cell_type": "code",
      "execution_count": null,
      "metadata": {
        "id": "Fv9vZRl7ZCzQ"
      },
      "outputs": [],
      "source": [
        "# Code cell 18\n",
        "Crime0704 = SF.query('Month == 7 and Day == 4')\n",
        "Crime0704"
      ]
    },
    {
      "cell_type": "code",
      "execution_count": null,
      "metadata": {
        "id": "Cnxjl741ZCzR"
      },
      "outputs": [],
      "source": [
        "# Code cell 19\n",
        "SF.columns"
      ]
    },
    {
      "cell_type": "markdown",
      "metadata": {
        "id": "3Gvb8hztZCzR"
      },
      "source": [
        "## Parte 5: Presentar los datos\n",
        "\n",
        "La visualización y presentación de datos proporciona una descripción general inmediata que puede no ser evidente simplemente\n",
        "observando los datos sin procesar. El marco de datos de SF contiene las coordenadas de longitud y latitud que se pueden utilizar para\n",
        "graficar los datos."
      ]
    },
    {
      "cell_type": "markdown",
      "metadata": {
        "id": "qg_IuceZZCzS"
      },
      "source": [
        "#### Paso 1: Graficar el marco de datos de SF con las variables X e Y."
      ]
    },
    {
      "cell_type": "markdown",
      "metadata": {
        "id": "3ZwwVdYPZCzT"
      },
      "source": [
        "a) Utilice la función 'plot()' para graficar el marco de datos de SF. Utilice el parámetro opcional para crear el gráfico en rojo y configurar la forma del marcador en un círculo utilizando *ro*."
      ]
    },
    {
      "cell_type": "code",
      "execution_count": null,
      "metadata": {
        "id": "1px6G-EMZCzT"
      },
      "outputs": [],
      "source": [
        "# Code cell 20\n",
        "plt.plot(SF['X'],SF['Y'], 'ro')\n",
        "plt.show()"
      ]
    },
    {
      "cell_type": "markdown",
      "metadata": {
        "id": "GOIfA-r-ZCzU"
      },
      "source": [
        "b) Identifique la cantidad de distritos de departamentos policiales y luego cree el diccionario *pd_districts* para asociar la secuencia a un valor entero."
      ]
    },
    {
      "cell_type": "code",
      "execution_count": null,
      "metadata": {
        "id": "uXfeUPLiZCzV"
      },
      "outputs": [],
      "source": [
        "# Code cell 21\n",
        "pd_districts = np.unique(SF['PdDistrict'])\n",
        "pd_districts_levels = dict(zip(pd_districts, range(len(pd_districts))))\n",
        "pd_districts_levels"
      ]
    },
    {
      "cell_type": "markdown",
      "metadata": {
        "id": "dwzizzXEZCzW"
      },
      "source": [
        "c) Utilice 'apply' y 'lambda' para agregar la ID del valor entero del departamento policial a una nueva columna para el marco de datos. "
      ]
    },
    {
      "cell_type": "code",
      "execution_count": null,
      "metadata": {
        "id": "gQrss1CeZCzX"
      },
      "outputs": [],
      "source": [
        "# Code cell 22\n",
        "SF['PdDistrictCode'] = SF['PdDistrict'].apply(lambda row: pd_districts_levels[row])"
      ]
    },
    {
      "cell_type": "markdown",
      "metadata": {
        "id": "Xd3ZXcvZZCzX"
      },
      "source": [
        "d) Utilice el *PdDistrictCode* creado recientemente para cambiar automáticamente el color."
      ]
    },
    {
      "cell_type": "code",
      "execution_count": null,
      "metadata": {
        "scrolled": true,
        "id": "TAU7o2W0ZCzZ"
      },
      "outputs": [],
      "source": [
        "# Code cell 23\n",
        "plt.scatter(SF['X'], SF['Y'], c=SF['PdDistrictCode'])\n",
        "plt.show()"
      ]
    },
    {
      "cell_type": "markdown",
      "metadata": {
        "id": "mTXsh8VxZCzZ"
      },
      "source": [
        "#### Paso 2: Agregar los paquetes de mapas para mejorar el gráfico."
      ]
    },
    {
      "cell_type": "markdown",
      "metadata": {
        "id": "lDd_U6p4ZCza"
      },
      "source": [
        "En el paso 1, creó un gráfico simple que muestra dónde ocurrieron los incidentes de delitos en el condado de SF. Este gráfico\n",
        "es útil, pero 'folium' ofrece funciones adicionales que permiten superponer este gráfico en un mapa de OpenStreet. "
      ]
    },
    {
      "cell_type": "markdown",
      "metadata": {
        "id": "jeIvS4W6ZCzb"
      },
      "source": [
        "a) 'Folium' requiere que se especifique el color del marcador mediante un valor hexadecimal. Por este motivo, utilizamos el paquete *colores* y seleccionamos los colores necesarios."
      ]
    },
    {
      "cell_type": "code",
      "execution_count": null,
      "metadata": {
        "id": "GJhNdww1ZCzb"
      },
      "outputs": [],
      "source": [
        "# Code cell 24\n",
        "from matplotlib import colors\n",
        "districts = np.unique(SF['PdDistrict'])\n",
        "print(colors.cnames.values()[0:len(districts)])"
      ]
    },
    {
      "cell_type": "markdown",
      "metadata": {
        "id": "oyaWmgVsZCzc"
      },
      "source": [
        "b) Cree un diccionario de colores para cada distrito del departamento policial."
      ]
    },
    {
      "cell_type": "code",
      "execution_count": null,
      "metadata": {
        "scrolled": true,
        "id": "S8pdEWN7ZCzd"
      },
      "outputs": [],
      "source": [
        "# Code cell 25\n",
        "color_dict = dict(zip(districts, colors.cnames.values()[0:-1:len(districts)]))  \n",
        "color_dict"
      ]
    },
    {
      "cell_type": "markdown",
      "metadata": {
        "id": "ql17dGykZCze"
      },
      "source": [
        "c) Cree el mapa con las coordenadas centrales de los datos de SF para centrar el mapa (utilice 'mean'). Para reducir el tiempo de cómputo, se utiliza *plotEvery* para limitar la cantidad de datos graficados. Establezca este valor a 1 para graficar todas las filas (puede llevar mucho tiempo visualizar el mapa)."
      ]
    },
    {
      "cell_type": "code",
      "execution_count": null,
      "metadata": {
        "id": "XOLpIB1pZCze"
      },
      "outputs": [],
      "source": [
        "# Code cell 26\n",
        "#Create map\n",
        "map_osm = folium.Map(location=[SF['Y'].mean(), SF['X'].mean()], zoom_start = 12)\n",
        "plotEvery = 50\n",
        "obs = zip( SF['Y'], SF['X'], SF['PdDistrict'])\n",
        "\n",
        "for el in obs[0:-1:plotEvery]:\n",
        "    \n",
        "    folium.CircleMarker(el[0:2], color=color_dict[el[2]], fill_color=el[2],radius=10).add_to(map_osm)\n",
        "    "
      ]
    },
    {
      "cell_type": "code",
      "execution_count": null,
      "metadata": {
        "id": "d0PblYbuZCzg"
      },
      "outputs": [],
      "source": [
        "# Code cell 27\n",
        "map_osm"
      ]
    },
    {
      "cell_type": "markdown",
      "metadata": {
        "collapsed": true,
        "id": "UNVKXW8iZCzh"
      },
      "source": [
        "<font size='0.5'>&copy; 2017 Cisco y/o sus filiales. Todos los derechos reservados. Este documento es información pública de Cisco.<font>"
      ]
    }
  ],
  "metadata": {
    "kernelspec": {
      "display_name": "Python 2",
      "language": "python",
      "name": "python2"
    },
    "language_info": {
      "codemirror_mode": {
        "name": "ipython",
        "version": 2
      },
      "file_extension": ".py",
      "mimetype": "text/x-python",
      "name": "python",
      "nbconvert_exporter": "python",
      "pygments_lexer": "ipython2",
      "version": "2.7.13"
    },
    "colab": {
      "provenance": [],
      "include_colab_link": true
    }
  },
  "nbformat": 4,
  "nbformat_minor": 0
}